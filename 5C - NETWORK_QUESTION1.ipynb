{
 "cells": [
  {
   "cell_type": "code",
   "execution_count": 1,
   "id": "1ecfa079",
   "metadata": {},
   "outputs": [],
   "source": [
    "#Importing the required libraries\n",
    "import pandas as pd\n",
    "import numpy as np\n",
    "import matplotlib.pyplot as plt\n",
    "import seaborn as sns"
   ]
  },
  {
   "cell_type": "code",
   "execution_count": 2,
   "id": "8d08194e",
   "metadata": {},
   "outputs": [],
   "source": [
    "#Reading the dataset\n",
    "data = pd.read_csv(\"C:\\\\Users\\\\sneka\\\\Downloads\\\\sales_data_1.csv\")"
   ]
  },
  {
   "cell_type": "code",
   "execution_count": 3,
   "id": "43a2bfce",
   "metadata": {},
   "outputs": [
    {
     "data": {
      "text/html": [
       "<div>\n",
       "<style scoped>\n",
       "    .dataframe tbody tr th:only-of-type {\n",
       "        vertical-align: middle;\n",
       "    }\n",
       "\n",
       "    .dataframe tbody tr th {\n",
       "        vertical-align: top;\n",
       "    }\n",
       "\n",
       "    .dataframe thead th {\n",
       "        text-align: right;\n",
       "    }\n",
       "</style>\n",
       "<table border=\"1\" class=\"dataframe\">\n",
       "  <thead>\n",
       "    <tr style=\"text-align: right;\">\n",
       "      <th></th>\n",
       "      <th>Date</th>\n",
       "      <th>Firm bought from</th>\n",
       "      <th>Buying price</th>\n",
       "      <th>Customer</th>\n",
       "      <th>Selling price</th>\n",
       "      <th>Quantity sold</th>\n",
       "    </tr>\n",
       "  </thead>\n",
       "  <tbody>\n",
       "    <tr>\n",
       "      <th>0</th>\n",
       "      <td>21/08/23</td>\n",
       "      <td>Vendor6</td>\n",
       "      <td>72.11</td>\n",
       "      <td>Customer7</td>\n",
       "      <td>91.58</td>\n",
       "      <td>44</td>\n",
       "    </tr>\n",
       "    <tr>\n",
       "      <th>1</th>\n",
       "      <td>21/08/23</td>\n",
       "      <td>Vendor4</td>\n",
       "      <td>75.08</td>\n",
       "      <td>Customer7</td>\n",
       "      <td>83.71</td>\n",
       "      <td>17</td>\n",
       "    </tr>\n",
       "    <tr>\n",
       "      <th>2</th>\n",
       "      <td>21/08/23</td>\n",
       "      <td>Vendor7</td>\n",
       "      <td>83.93</td>\n",
       "      <td>Customer2</td>\n",
       "      <td>103.76</td>\n",
       "      <td>15</td>\n",
       "    </tr>\n",
       "    <tr>\n",
       "      <th>3</th>\n",
       "      <td>21/08/23</td>\n",
       "      <td>Vendor7</td>\n",
       "      <td>52.01</td>\n",
       "      <td>Customer3</td>\n",
       "      <td>64.53</td>\n",
       "      <td>7</td>\n",
       "    </tr>\n",
       "    <tr>\n",
       "      <th>4</th>\n",
       "      <td>21/08/23</td>\n",
       "      <td>Vendor2</td>\n",
       "      <td>98.91</td>\n",
       "      <td>Customer5</td>\n",
       "      <td>140.92</td>\n",
       "      <td>1</td>\n",
       "    </tr>\n",
       "  </tbody>\n",
       "</table>\n",
       "</div>"
      ],
      "text/plain": [
       "       Date Firm bought from  Buying price   Customer  Selling price  \\\n",
       "0  21/08/23          Vendor6         72.11  Customer7          91.58   \n",
       "1  21/08/23          Vendor4         75.08  Customer7          83.71   \n",
       "2  21/08/23          Vendor7         83.93  Customer2         103.76   \n",
       "3  21/08/23          Vendor7         52.01  Customer3          64.53   \n",
       "4  21/08/23          Vendor2         98.91  Customer5         140.92   \n",
       "\n",
       "   Quantity sold  \n",
       "0             44  \n",
       "1             17  \n",
       "2             15  \n",
       "3              7  \n",
       "4              1  "
      ]
     },
     "execution_count": 3,
     "metadata": {},
     "output_type": "execute_result"
    }
   ],
   "source": [
    "#Getting the first 5 rows of the dataset, to get a look about the dataset\n",
    "data.head()"
   ]
  },
  {
   "cell_type": "code",
   "execution_count": 4,
   "id": "136536a2",
   "metadata": {},
   "outputs": [
    {
     "data": {
      "text/plain": [
       "(70, 6)"
      ]
     },
     "execution_count": 4,
     "metadata": {},
     "output_type": "execute_result"
    }
   ],
   "source": [
    "#Getting dimension of the dataset\n",
    "data.shape"
   ]
  },
  {
   "cell_type": "code",
   "execution_count": 5,
   "id": "27738168",
   "metadata": {},
   "outputs": [
    {
     "data": {
      "text/plain": [
       "Index(['Date', 'Firm bought from', 'Buying price', 'Customer', 'Selling price',\n",
       "       'Quantity sold'],\n",
       "      dtype='object')"
      ]
     },
     "execution_count": 5,
     "metadata": {},
     "output_type": "execute_result"
    }
   ],
   "source": [
    "#The columns in the dataset\n",
    "data.columns"
   ]
  },
  {
   "cell_type": "code",
   "execution_count": 6,
   "id": "600c7eca",
   "metadata": {},
   "outputs": [
    {
     "data": {
      "text/plain": [
       "Date                0\n",
       "Firm bought from    0\n",
       "Buying price        0\n",
       "Customer            0\n",
       "Selling price       0\n",
       "Quantity sold       0\n",
       "dtype: int64"
      ]
     },
     "execution_count": 6,
     "metadata": {},
     "output_type": "execute_result"
    }
   ],
   "source": [
    "#Checking for null values in the dataset\n",
    "dataset = data.isnull().sum()\n",
    "dataset"
   ]
  },
  {
   "cell_type": "code",
   "execution_count": 7,
   "id": "2b6487f7",
   "metadata": {},
   "outputs": [
    {
     "name": "stdout",
     "output_type": "stream",
     "text": [
      "<class 'pandas.core.frame.DataFrame'>\n",
      "RangeIndex: 70 entries, 0 to 69\n",
      "Data columns (total 6 columns):\n",
      " #   Column            Non-Null Count  Dtype  \n",
      "---  ------            --------------  -----  \n",
      " 0   Date              70 non-null     object \n",
      " 1   Firm bought from  70 non-null     object \n",
      " 2   Buying price      70 non-null     float64\n",
      " 3   Customer          70 non-null     object \n",
      " 4   Selling price     70 non-null     float64\n",
      " 5   Quantity sold     70 non-null     int64  \n",
      "dtypes: float64(2), int64(1), object(3)\n",
      "memory usage: 3.4+ KB\n"
     ]
    }
   ],
   "source": [
    "data.info()"
   ]
  },
  {
   "cell_type": "code",
   "execution_count": 8,
   "id": "172b4fe2",
   "metadata": {},
   "outputs": [
    {
     "data": {
      "text/html": [
       "<div>\n",
       "<style scoped>\n",
       "    .dataframe tbody tr th:only-of-type {\n",
       "        vertical-align: middle;\n",
       "    }\n",
       "\n",
       "    .dataframe tbody tr th {\n",
       "        vertical-align: top;\n",
       "    }\n",
       "\n",
       "    .dataframe thead th {\n",
       "        text-align: right;\n",
       "    }\n",
       "</style>\n",
       "<table border=\"1\" class=\"dataframe\">\n",
       "  <thead>\n",
       "    <tr style=\"text-align: right;\">\n",
       "      <th></th>\n",
       "      <th>Buying price</th>\n",
       "      <th>Selling price</th>\n",
       "      <th>Quantity sold</th>\n",
       "    </tr>\n",
       "  </thead>\n",
       "  <tbody>\n",
       "    <tr>\n",
       "      <th>count</th>\n",
       "      <td>70.000000</td>\n",
       "      <td>70.000000</td>\n",
       "      <td>70.000000</td>\n",
       "    </tr>\n",
       "    <tr>\n",
       "      <th>mean</th>\n",
       "      <td>56.667571</td>\n",
       "      <td>73.913286</td>\n",
       "      <td>24.242857</td>\n",
       "    </tr>\n",
       "    <tr>\n",
       "      <th>std</th>\n",
       "      <td>27.520992</td>\n",
       "      <td>37.990807</td>\n",
       "      <td>22.174169</td>\n",
       "    </tr>\n",
       "    <tr>\n",
       "      <th>min</th>\n",
       "      <td>10.190000</td>\n",
       "      <td>11.650000</td>\n",
       "      <td>1.000000</td>\n",
       "    </tr>\n",
       "    <tr>\n",
       "      <th>25%</th>\n",
       "      <td>29.900000</td>\n",
       "      <td>38.975000</td>\n",
       "      <td>7.000000</td>\n",
       "    </tr>\n",
       "    <tr>\n",
       "      <th>50%</th>\n",
       "      <td>60.760000</td>\n",
       "      <td>78.990000</td>\n",
       "      <td>17.500000</td>\n",
       "    </tr>\n",
       "    <tr>\n",
       "      <th>75%</th>\n",
       "      <td>78.320000</td>\n",
       "      <td>103.397500</td>\n",
       "      <td>38.500000</td>\n",
       "    </tr>\n",
       "    <tr>\n",
       "      <th>max</th>\n",
       "      <td>99.230000</td>\n",
       "      <td>146.760000</td>\n",
       "      <td>92.000000</td>\n",
       "    </tr>\n",
       "  </tbody>\n",
       "</table>\n",
       "</div>"
      ],
      "text/plain": [
       "       Buying price  Selling price  Quantity sold\n",
       "count     70.000000      70.000000      70.000000\n",
       "mean      56.667571      73.913286      24.242857\n",
       "std       27.520992      37.990807      22.174169\n",
       "min       10.190000      11.650000       1.000000\n",
       "25%       29.900000      38.975000       7.000000\n",
       "50%       60.760000      78.990000      17.500000\n",
       "75%       78.320000     103.397500      38.500000\n",
       "max       99.230000     146.760000      92.000000"
      ]
     },
     "execution_count": 8,
     "metadata": {},
     "output_type": "execute_result"
    }
   ],
   "source": [
    "data.describe()"
   ]
  },
  {
   "cell_type": "code",
   "execution_count": 9,
   "id": "e110ead0",
   "metadata": {},
   "outputs": [],
   "source": [
    "# Calculating the profit from the dataset\n",
    "data['Profit'] = (data['Selling price'] - data['Buying price']) * data['Quantity sold']"
   ]
  },
  {
   "cell_type": "code",
   "execution_count": 10,
   "id": "d66f9466",
   "metadata": {},
   "outputs": [],
   "source": [
    "data['Date'] = pd.to_datetime(data['Date'])\n",
    "data['Month'] = data['Date'].dt.month \n",
    "data['Year'] = data['Date'].dt.year\n",
    "data['Day_of_Week'] = data['Date'].dt.day_name()"
   ]
  },
  {
   "cell_type": "code",
   "execution_count": 11,
   "id": "1747fb05",
   "metadata": {},
   "outputs": [
    {
     "data": {
      "text/html": [
       "<div>\n",
       "<style scoped>\n",
       "    .dataframe tbody tr th:only-of-type {\n",
       "        vertical-align: middle;\n",
       "    }\n",
       "\n",
       "    .dataframe tbody tr th {\n",
       "        vertical-align: top;\n",
       "    }\n",
       "\n",
       "    .dataframe thead th {\n",
       "        text-align: right;\n",
       "    }\n",
       "</style>\n",
       "<table border=\"1\" class=\"dataframe\">\n",
       "  <thead>\n",
       "    <tr style=\"text-align: right;\">\n",
       "      <th></th>\n",
       "      <th>Date</th>\n",
       "      <th>Firm bought from</th>\n",
       "      <th>Buying price</th>\n",
       "      <th>Customer</th>\n",
       "      <th>Selling price</th>\n",
       "      <th>Quantity sold</th>\n",
       "      <th>Profit</th>\n",
       "      <th>Month</th>\n",
       "      <th>Year</th>\n",
       "      <th>Day_of_Week</th>\n",
       "    </tr>\n",
       "  </thead>\n",
       "  <tbody>\n",
       "    <tr>\n",
       "      <th>0</th>\n",
       "      <td>2023-08-21</td>\n",
       "      <td>Vendor6</td>\n",
       "      <td>72.11</td>\n",
       "      <td>Customer7</td>\n",
       "      <td>91.58</td>\n",
       "      <td>44</td>\n",
       "      <td>856.68</td>\n",
       "      <td>8</td>\n",
       "      <td>2023</td>\n",
       "      <td>Monday</td>\n",
       "    </tr>\n",
       "    <tr>\n",
       "      <th>1</th>\n",
       "      <td>2023-08-21</td>\n",
       "      <td>Vendor4</td>\n",
       "      <td>75.08</td>\n",
       "      <td>Customer7</td>\n",
       "      <td>83.71</td>\n",
       "      <td>17</td>\n",
       "      <td>146.71</td>\n",
       "      <td>8</td>\n",
       "      <td>2023</td>\n",
       "      <td>Monday</td>\n",
       "    </tr>\n",
       "    <tr>\n",
       "      <th>2</th>\n",
       "      <td>2023-08-21</td>\n",
       "      <td>Vendor7</td>\n",
       "      <td>83.93</td>\n",
       "      <td>Customer2</td>\n",
       "      <td>103.76</td>\n",
       "      <td>15</td>\n",
       "      <td>297.45</td>\n",
       "      <td>8</td>\n",
       "      <td>2023</td>\n",
       "      <td>Monday</td>\n",
       "    </tr>\n",
       "    <tr>\n",
       "      <th>3</th>\n",
       "      <td>2023-08-21</td>\n",
       "      <td>Vendor7</td>\n",
       "      <td>52.01</td>\n",
       "      <td>Customer3</td>\n",
       "      <td>64.53</td>\n",
       "      <td>7</td>\n",
       "      <td>87.64</td>\n",
       "      <td>8</td>\n",
       "      <td>2023</td>\n",
       "      <td>Monday</td>\n",
       "    </tr>\n",
       "    <tr>\n",
       "      <th>4</th>\n",
       "      <td>2023-08-21</td>\n",
       "      <td>Vendor2</td>\n",
       "      <td>98.91</td>\n",
       "      <td>Customer5</td>\n",
       "      <td>140.92</td>\n",
       "      <td>1</td>\n",
       "      <td>42.01</td>\n",
       "      <td>8</td>\n",
       "      <td>2023</td>\n",
       "      <td>Monday</td>\n",
       "    </tr>\n",
       "  </tbody>\n",
       "</table>\n",
       "</div>"
      ],
      "text/plain": [
       "        Date Firm bought from  Buying price   Customer  Selling price  \\\n",
       "0 2023-08-21          Vendor6         72.11  Customer7          91.58   \n",
       "1 2023-08-21          Vendor4         75.08  Customer7          83.71   \n",
       "2 2023-08-21          Vendor7         83.93  Customer2         103.76   \n",
       "3 2023-08-21          Vendor7         52.01  Customer3          64.53   \n",
       "4 2023-08-21          Vendor2         98.91  Customer5         140.92   \n",
       "\n",
       "   Quantity sold  Profit  Month  Year Day_of_Week  \n",
       "0             44  856.68      8  2023      Monday  \n",
       "1             17  146.71      8  2023      Monday  \n",
       "2             15  297.45      8  2023      Monday  \n",
       "3              7   87.64      8  2023      Monday  \n",
       "4              1   42.01      8  2023      Monday  "
      ]
     },
     "execution_count": 11,
     "metadata": {},
     "output_type": "execute_result"
    }
   ],
   "source": [
    "data.head()"
   ]
  },
  {
   "cell_type": "code",
   "execution_count": 12,
   "id": "78f588b4",
   "metadata": {},
   "outputs": [
    {
     "data": {
      "text/html": [
       "<div>\n",
       "<style scoped>\n",
       "    .dataframe tbody tr th:only-of-type {\n",
       "        vertical-align: middle;\n",
       "    }\n",
       "\n",
       "    .dataframe tbody tr th {\n",
       "        vertical-align: top;\n",
       "    }\n",
       "\n",
       "    .dataframe thead th {\n",
       "        text-align: right;\n",
       "    }\n",
       "</style>\n",
       "<table border=\"1\" class=\"dataframe\">\n",
       "  <thead>\n",
       "    <tr style=\"text-align: right;\">\n",
       "      <th></th>\n",
       "      <th>Buying price</th>\n",
       "      <th>Selling price</th>\n",
       "      <th>Quantity sold</th>\n",
       "      <th>Profit</th>\n",
       "      <th>Month</th>\n",
       "      <th>Year</th>\n",
       "    </tr>\n",
       "  </thead>\n",
       "  <tbody>\n",
       "    <tr>\n",
       "      <th>count</th>\n",
       "      <td>70.000000</td>\n",
       "      <td>70.000000</td>\n",
       "      <td>70.000000</td>\n",
       "      <td>70.000000</td>\n",
       "      <td>70.0</td>\n",
       "      <td>70.0</td>\n",
       "    </tr>\n",
       "    <tr>\n",
       "      <th>mean</th>\n",
       "      <td>56.667571</td>\n",
       "      <td>73.913286</td>\n",
       "      <td>24.242857</td>\n",
       "      <td>449.753571</td>\n",
       "      <td>8.0</td>\n",
       "      <td>2023.0</td>\n",
       "    </tr>\n",
       "    <tr>\n",
       "      <th>std</th>\n",
       "      <td>27.520992</td>\n",
       "      <td>37.990807</td>\n",
       "      <td>22.174169</td>\n",
       "      <td>667.529305</td>\n",
       "      <td>0.0</td>\n",
       "      <td>0.0</td>\n",
       "    </tr>\n",
       "    <tr>\n",
       "      <th>min</th>\n",
       "      <td>10.190000</td>\n",
       "      <td>11.650000</td>\n",
       "      <td>1.000000</td>\n",
       "      <td>4.470000</td>\n",
       "      <td>8.0</td>\n",
       "      <td>2023.0</td>\n",
       "    </tr>\n",
       "    <tr>\n",
       "      <th>25%</th>\n",
       "      <td>29.900000</td>\n",
       "      <td>38.975000</td>\n",
       "      <td>7.000000</td>\n",
       "      <td>79.245000</td>\n",
       "      <td>8.0</td>\n",
       "      <td>2023.0</td>\n",
       "    </tr>\n",
       "    <tr>\n",
       "      <th>50%</th>\n",
       "      <td>60.760000</td>\n",
       "      <td>78.990000</td>\n",
       "      <td>17.500000</td>\n",
       "      <td>179.160000</td>\n",
       "      <td>8.0</td>\n",
       "      <td>2023.0</td>\n",
       "    </tr>\n",
       "    <tr>\n",
       "      <th>75%</th>\n",
       "      <td>78.320000</td>\n",
       "      <td>103.397500</td>\n",
       "      <td>38.500000</td>\n",
       "      <td>552.760000</td>\n",
       "      <td>8.0</td>\n",
       "      <td>2023.0</td>\n",
       "    </tr>\n",
       "    <tr>\n",
       "      <th>max</th>\n",
       "      <td>99.230000</td>\n",
       "      <td>146.760000</td>\n",
       "      <td>92.000000</td>\n",
       "      <td>3016.300000</td>\n",
       "      <td>8.0</td>\n",
       "      <td>2023.0</td>\n",
       "    </tr>\n",
       "  </tbody>\n",
       "</table>\n",
       "</div>"
      ],
      "text/plain": [
       "       Buying price  Selling price  Quantity sold       Profit  Month    Year\n",
       "count     70.000000      70.000000      70.000000    70.000000   70.0    70.0\n",
       "mean      56.667571      73.913286      24.242857   449.753571    8.0  2023.0\n",
       "std       27.520992      37.990807      22.174169   667.529305    0.0     0.0\n",
       "min       10.190000      11.650000       1.000000     4.470000    8.0  2023.0\n",
       "25%       29.900000      38.975000       7.000000    79.245000    8.0  2023.0\n",
       "50%       60.760000      78.990000      17.500000   179.160000    8.0  2023.0\n",
       "75%       78.320000     103.397500      38.500000   552.760000    8.0  2023.0\n",
       "max       99.230000     146.760000      92.000000  3016.300000    8.0  2023.0"
      ]
     },
     "execution_count": 12,
     "metadata": {},
     "output_type": "execute_result"
    }
   ],
   "source": [
    "data.describe()"
   ]
  },
  {
   "cell_type": "code",
   "execution_count": null,
   "id": "28bc8c8e",
   "metadata": {},
   "outputs": [],
   "source": []
  },
  {
   "cell_type": "markdown",
   "id": "0197a43e",
   "metadata": {},
   "source": [
    "1. What is their overall gross margin for their business"
   ]
  },
  {
   "cell_type": "code",
   "execution_count": 60,
   "id": "b2bc50f5",
   "metadata": {},
   "outputs": [],
   "source": [
    "COGS = data['Buying price'] * data['Quantity sold'] "
   ]
  },
  {
   "cell_type": "code",
   "execution_count": 61,
   "id": "2fa9d7be",
   "metadata": {},
   "outputs": [],
   "source": [
    "#COGS.head()"
   ]
  },
  {
   "cell_type": "code",
   "execution_count": 62,
   "id": "9a82d78a",
   "metadata": {},
   "outputs": [
    {
     "data": {
      "text/plain": [
       "96321.56000000001"
      ]
     },
     "execution_count": 62,
     "metadata": {},
     "output_type": "execute_result"
    }
   ],
   "source": [
    "COGS.sum()"
   ]
  },
  {
   "cell_type": "code",
   "execution_count": 63,
   "id": "d3687b5d",
   "metadata": {},
   "outputs": [],
   "source": [
    "Revenue = data['Selling price'] * data['Quantity sold']"
   ]
  },
  {
   "cell_type": "code",
   "execution_count": 64,
   "id": "c98e8d65",
   "metadata": {},
   "outputs": [],
   "source": [
    "total_cogs = COGS.sum()\n",
    "total_revenue = Revenue.sum()"
   ]
  },
  {
   "cell_type": "code",
   "execution_count": 65,
   "id": "abacff19",
   "metadata": {},
   "outputs": [
    {
     "data": {
      "text/plain": [
       "96321.56000000001"
      ]
     },
     "execution_count": 65,
     "metadata": {},
     "output_type": "execute_result"
    }
   ],
   "source": [
    "total_cogs"
   ]
  },
  {
   "cell_type": "code",
   "execution_count": 66,
   "id": "2e18bba8",
   "metadata": {},
   "outputs": [
    {
     "data": {
      "text/plain": [
       "127804.31"
      ]
     },
     "execution_count": 66,
     "metadata": {},
     "output_type": "execute_result"
    }
   ],
   "source": [
    "total_revenue"
   ]
  },
  {
   "cell_type": "code",
   "execution_count": 67,
   "id": "9d7d0e80",
   "metadata": {},
   "outputs": [
    {
     "data": {
      "text/plain": [
       "0.24633558915188375"
      ]
     },
     "execution_count": 67,
     "metadata": {},
     "output_type": "execute_result"
    }
   ],
   "source": [
    "gross_margin = (total_revenue - total_cogs) / total_revenue\n",
    "gross_margin"
   ]
  },
  {
   "cell_type": "code",
   "execution_count": null,
   "id": "d20d1812",
   "metadata": {},
   "outputs": [],
   "source": []
  },
  {
   "cell_type": "markdown",
   "id": "c38518d7",
   "metadata": {},
   "source": [
    "2. Which vendor is the most profitable?"
   ]
  },
  {
   "cell_type": "code",
   "execution_count": 48,
   "id": "c2cdbd0b",
   "metadata": {},
   "outputs": [],
   "source": [
    "# Group by vendors and sum their profits\n",
    "vendor_profit = data.groupby('Firm bought from')['Profit'].sum()"
   ]
  },
  {
   "cell_type": "code",
   "execution_count": 49,
   "id": "6d05dbcd",
   "metadata": {},
   "outputs": [
    {
     "data": {
      "text/plain": [
       "'Vendor4'"
      ]
     },
     "execution_count": 49,
     "metadata": {},
     "output_type": "execute_result"
    }
   ],
   "source": [
    "# Find the most profitable vendor\n",
    "most_profitable_vendor = vendor_profit.idxmax()\n",
    "most_profitable_vendor"
   ]
  },
  {
   "cell_type": "code",
   "execution_count": 50,
   "id": "d9f81f55",
   "metadata": {},
   "outputs": [
    {
     "data": {
      "image/png": "[encoded data removed]",
      "text/plain": [
       "<Figure size 640x480 with 1 Axes>"
      ]
     },
     "metadata": {},
     "output_type": "display_data"
    }
   ],
   "source": [
    "\n",
    "vendor_profit.sort_values().plot(kind='bar')\n",
    "plt.title('Visualizing the most profitable vendor')\n",
    "plt.xlabel('Vendor')\n",
    "plt.ylabel('Total Profit')\n",
    "plt.show()"
   ]
  },
  {
   "cell_type": "markdown",
   "id": "518ac51e",
   "metadata": {},
   "source": [
    "3. Which customer is the least profitable"
   ]
  },
  {
   "cell_type": "code",
   "execution_count": 44,
   "id": "1c99f267",
   "metadata": {},
   "outputs": [],
   "source": [
    "# Group by vendors and sum their profits\n",
    "customer_profit = data.groupby('Customer')['Profit'].sum()"
   ]
  },
  {
   "cell_type": "code",
   "execution_count": 45,
   "id": "a684f6b9",
   "metadata": {},
   "outputs": [
    {
     "data": {
      "text/plain": [
       "'Customer3'"
      ]
     },
     "execution_count": 45,
     "metadata": {},
     "output_type": "execute_result"
    }
   ],
   "source": [
    "# Find the most profitable vendor\n",
    "least_profitable_vendor = customer_profit.idxmin()\n",
    "least_profitable_vendor"
   ]
  },
  {
   "cell_type": "code",
   "execution_count": 46,
   "id": "97e14981",
   "metadata": {},
   "outputs": [
    {
     "data": {
      "image/png": "[encoded data removed]",
      "text/plain": [
       "<Figure size 640x480 with 1 Axes>"
      ]
     },
     "metadata": {},
     "output_type": "display_data"
    }
   ],
   "source": [
    "customer_profit.sort_values().plot(kind='bar')\n",
    "plt.title('Visualizing the least customer')\n",
    "plt.xlabel('Customer')\n",
    "plt.ylabel('Total Profit')\n",
    "plt.show()\n"
   ]
  },
  {
   "cell_type": "code",
   "execution_count": null,
   "id": "9e460e9a",
   "metadata": {},
   "outputs": [],
   "source": []
  },
  {
   "cell_type": "markdown",
   "id": "265a11ab",
   "metadata": {},
   "source": [
    "4 and 5. Which day of the week was most profitable & least profitable for them"
   ]
  },
  {
   "cell_type": "code",
   "execution_count": 55,
   "id": "427268af",
   "metadata": {},
   "outputs": [],
   "source": [
    "# Group the data by the day of the week and calculate the total profit for each day\n",
    "day_profit = data.groupby('Day_of_Week')['Profit'].sum()"
   ]
  },
  {
   "cell_type": "code",
   "execution_count": 56,
   "id": "c6463e41",
   "metadata": {},
   "outputs": [
    {
     "data": {
      "text/plain": [
       "'Monday'"
      ]
     },
     "execution_count": 56,
     "metadata": {},
     "output_type": "execute_result"
    }
   ],
   "source": [
    "# Find the day of the week with the highest total profit\n",
    "most_profitable_day = day_profit.idxmax()\n",
    "most_profitable_day"
   ]
  },
  {
   "cell_type": "code",
   "execution_count": 57,
   "id": "51a0600c",
   "metadata": {},
   "outputs": [
    {
     "data": {
      "text/plain": [
       "'Sunday'"
      ]
     },
     "execution_count": 57,
     "metadata": {},
     "output_type": "execute_result"
    }
   ],
   "source": [
    "least_profitable_day = day_profit.idxmin()\n",
    "least_profitable_day"
   ]
  },
  {
   "cell_type": "code",
   "execution_count": 59,
   "id": "88a7368c",
   "metadata": {},
   "outputs": [
    {
     "data": {
      "image/png": "[encoded data removed]",
      "text/plain": [
       "<Figure size 640x480 with 1 Axes>"
      ]
     },
     "metadata": {},
     "output_type": "display_data"
    }
   ],
   "source": [
    "day_profit.sort_values().plot(kind='bar')\n",
    "plt.title('Visualizing the least and the most profitable day')\n",
    "plt.xlabel('Day of the Week')\n",
    "plt.ylabel('Profit')\n",
    "plt.show()"
   ]
  },
  {
   "cell_type": "code",
   "execution_count": null,
   "id": "938c53f9",
   "metadata": {},
   "outputs": [],
   "source": []
  },
  {
   "cell_type": "code",
   "execution_count": null,
   "id": "3d62f9ff",
   "metadata": {},
   "outputs": [],
   "source": []
  }
 ],
 "metadata": {
  "kernelspec": {
   "display_name": "Python 3 (ipykernel)",
   "language": "python",
   "name": "python3"
  },
  "language_info": {
   "codemirror_mode": {
    "name": "ipython",
    "version": 3
   },
   "file_extension": ".py",
   "mimetype": "text/x-python",
   "name": "python",
   "nbconvert_exporter": "python",
   "pygments_lexer": "ipython3",
   "version": "3.11.4"
  }
 },
 "nbformat": 4,
 "nbformat_minor": 5
}
