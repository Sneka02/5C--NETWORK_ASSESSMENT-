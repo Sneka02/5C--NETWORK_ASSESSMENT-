{
 "cells": [
  {
   "cell_type": "code",
   "execution_count": 1,
   "id": "6cfe7fdd",
   "metadata": {},
   "outputs": [],
   "source": [
    "#Import the required libraries\n",
    "import pandas as pd\n",
    "import numpy as np\n",
    "import matplotlib.pyplot as plt\n",
    "import seaborn as sns"
   ]
  },
  {
   "cell_type": "code",
   "execution_count": 2,
   "id": "f1e5f0d5",
   "metadata": {},
   "outputs": [],
   "source": [
    "#Reading the dataset\n",
    "dataset = pd.read_csv(\"C:\\\\Users\\\\sneka\\\\Downloads\\\\sales_data_2.csv\")"
   ]
  },
  {
   "cell_type": "code",
   "execution_count": 3,
   "id": "d93fbbbb",
   "metadata": {},
   "outputs": [
    {
     "data": {
      "text/html": [
       "<div>\n",
       "<style scoped>\n",
       "    .dataframe tbody tr th:only-of-type {\n",
       "        vertical-align: middle;\n",
       "    }\n",
       "\n",
       "    .dataframe tbody tr th {\n",
       "        vertical-align: top;\n",
       "    }\n",
       "\n",
       "    .dataframe thead th {\n",
       "        text-align: right;\n",
       "    }\n",
       "</style>\n",
       "<table border=\"1\" class=\"dataframe\">\n",
       "  <thead>\n",
       "    <tr style=\"text-align: right;\">\n",
       "      <th></th>\n",
       "      <th>Date</th>\n",
       "      <th>Firm bought from</th>\n",
       "      <th>Buying price</th>\n",
       "      <th>Quantity bought</th>\n",
       "      <th>Customer</th>\n",
       "      <th>Selling price</th>\n",
       "      <th>Quantity sold</th>\n",
       "    </tr>\n",
       "  </thead>\n",
       "  <tbody>\n",
       "    <tr>\n",
       "      <th>0</th>\n",
       "      <td>2023-08-21</td>\n",
       "      <td>Vendor6</td>\n",
       "      <td>72.11</td>\n",
       "      <td>60</td>\n",
       "      <td>Customer7</td>\n",
       "      <td>91.58</td>\n",
       "      <td>44</td>\n",
       "    </tr>\n",
       "    <tr>\n",
       "      <th>1</th>\n",
       "      <td>2023-08-21</td>\n",
       "      <td>Vendor4</td>\n",
       "      <td>75.08</td>\n",
       "      <td>92</td>\n",
       "      <td>Customer7</td>\n",
       "      <td>83.71</td>\n",
       "      <td>17</td>\n",
       "    </tr>\n",
       "    <tr>\n",
       "      <th>2</th>\n",
       "      <td>2023-08-21</td>\n",
       "      <td>Vendor7</td>\n",
       "      <td>83.93</td>\n",
       "      <td>16</td>\n",
       "      <td>Customer2</td>\n",
       "      <td>103.76</td>\n",
       "      <td>15</td>\n",
       "    </tr>\n",
       "    <tr>\n",
       "      <th>3</th>\n",
       "      <td>2023-08-21</td>\n",
       "      <td>Vendor7</td>\n",
       "      <td>52.01</td>\n",
       "      <td>62</td>\n",
       "      <td>Customer3</td>\n",
       "      <td>64.53</td>\n",
       "      <td>7</td>\n",
       "    </tr>\n",
       "    <tr>\n",
       "      <th>4</th>\n",
       "      <td>2023-08-21</td>\n",
       "      <td>Vendor2</td>\n",
       "      <td>98.91</td>\n",
       "      <td>1</td>\n",
       "      <td>Customer5</td>\n",
       "      <td>140.92</td>\n",
       "      <td>1</td>\n",
       "    </tr>\n",
       "  </tbody>\n",
       "</table>\n",
       "</div>"
      ],
      "text/plain": [
       "         Date Firm bought from  Buying price  Quantity bought   Customer  \\\n",
       "0  2023-08-21          Vendor6         72.11               60  Customer7   \n",
       "1  2023-08-21          Vendor4         75.08               92  Customer7   \n",
       "2  2023-08-21          Vendor7         83.93               16  Customer2   \n",
       "3  2023-08-21          Vendor7         52.01               62  Customer3   \n",
       "4  2023-08-21          Vendor2         98.91                1  Customer5   \n",
       "\n",
       "   Selling price  Quantity sold  \n",
       "0          91.58             44  \n",
       "1          83.71             17  \n",
       "2         103.76             15  \n",
       "3          64.53              7  \n",
       "4         140.92              1  "
      ]
     },
     "execution_count": 3,
     "metadata": {},
     "output_type": "execute_result"
    }
   ],
   "source": [
    "#getting the first first rows of the dataset\n",
    "dataset.head()"
   ]
  },
  {
   "cell_type": "code",
   "execution_count": 4,
   "id": "d6ef4a51",
   "metadata": {},
   "outputs": [
    {
     "data": {
      "text/plain": [
       "(70, 7)"
      ]
     },
     "execution_count": 4,
     "metadata": {},
     "output_type": "execute_result"
    }
   ],
   "source": [
    "dataset.shape"
   ]
  },
  {
   "cell_type": "code",
   "execution_count": 5,
   "id": "9072be59",
   "metadata": {},
   "outputs": [
    {
     "data": {
      "text/plain": [
       "Index(['Date', 'Firm bought from', 'Buying price', 'Quantity bought',\n",
       "       'Customer', 'Selling price', 'Quantity sold'],\n",
       "      dtype='object')"
      ]
     },
     "execution_count": 5,
     "metadata": {},
     "output_type": "execute_result"
    }
   ],
   "source": [
    "dataset.columns"
   ]
  },
  {
   "cell_type": "code",
   "execution_count": 6,
   "id": "ab51f708",
   "metadata": {},
   "outputs": [
    {
     "data": {
      "text/plain": [
       "Date                0\n",
       "Firm bought from    0\n",
       "Buying price        0\n",
       "Quantity bought     0\n",
       "Customer            0\n",
       "Selling price       0\n",
       "Quantity sold       0\n",
       "dtype: int64"
      ]
     },
     "execution_count": 6,
     "metadata": {},
     "output_type": "execute_result"
    }
   ],
   "source": [
    "#Checking for the null values in the dataset\n",
    "dataset_null = dataset.isnull().sum()\n",
    "dataset_null"
   ]
  },
  {
   "cell_type": "code",
   "execution_count": 7,
   "id": "c32e2aeb",
   "metadata": {},
   "outputs": [
    {
     "name": "stdout",
     "output_type": "stream",
     "text": [
      "<class 'pandas.core.frame.DataFrame'>\n",
      "RangeIndex: 70 entries, 0 to 69\n",
      "Data columns (total 7 columns):\n",
      " #   Column            Non-Null Count  Dtype  \n",
      "---  ------            --------------  -----  \n",
      " 0   Date              70 non-null     object \n",
      " 1   Firm bought from  70 non-null     object \n",
      " 2   Buying price      70 non-null     float64\n",
      " 3   Quantity bought   70 non-null     int64  \n",
      " 4   Customer          70 non-null     object \n",
      " 5   Selling price     70 non-null     float64\n",
      " 6   Quantity sold     70 non-null     int64  \n",
      "dtypes: float64(2), int64(2), object(3)\n",
      "memory usage: 4.0+ KB\n"
     ]
    }
   ],
   "source": [
    "dataset.info()"
   ]
  },
  {
   "cell_type": "code",
   "execution_count": 8,
   "id": "562ff793",
   "metadata": {},
   "outputs": [],
   "source": [
    "# Calculating the profit from the dataset\n",
    "dataset['Profit'] = (dataset['Selling price'] - dataset['Buying price']) * dataset['Quantity sold']"
   ]
  },
  {
   "cell_type": "code",
   "execution_count": 9,
   "id": "fdd87a49",
   "metadata": {},
   "outputs": [],
   "source": [
    "dataset['Date'] = pd.to_datetime(dataset['Date'])\n",
    "dataset['Month'] = dataset['Date'].dt.month \n",
    "dataset['Year'] = dataset['Date'].dt.year\n",
    "dataset['Day_of_Week'] = dataset['Date'].dt.day_name()"
   ]
  },
  {
   "cell_type": "code",
   "execution_count": 10,
   "id": "191b6eb1",
   "metadata": {},
   "outputs": [
    {
     "data": {
      "text/html": [
       "<div>\n",
       "<style scoped>\n",
       "    .dataframe tbody tr th:only-of-type {\n",
       "        vertical-align: middle;\n",
       "    }\n",
       "\n",
       "    .dataframe tbody tr th {\n",
       "        vertical-align: top;\n",
       "    }\n",
       "\n",
       "    .dataframe thead th {\n",
       "        text-align: right;\n",
       "    }\n",
       "</style>\n",
       "<table border=\"1\" class=\"dataframe\">\n",
       "  <thead>\n",
       "    <tr style=\"text-align: right;\">\n",
       "      <th></th>\n",
       "      <th>Date</th>\n",
       "      <th>Firm bought from</th>\n",
       "      <th>Buying price</th>\n",
       "      <th>Quantity bought</th>\n",
       "      <th>Customer</th>\n",
       "      <th>Selling price</th>\n",
       "      <th>Quantity sold</th>\n",
       "      <th>Profit</th>\n",
       "      <th>Month</th>\n",
       "      <th>Year</th>\n",
       "      <th>Day_of_Week</th>\n",
       "    </tr>\n",
       "  </thead>\n",
       "  <tbody>\n",
       "    <tr>\n",
       "      <th>0</th>\n",
       "      <td>2023-08-21</td>\n",
       "      <td>Vendor6</td>\n",
       "      <td>72.11</td>\n",
       "      <td>60</td>\n",
       "      <td>Customer7</td>\n",
       "      <td>91.58</td>\n",
       "      <td>44</td>\n",
       "      <td>856.68</td>\n",
       "      <td>8</td>\n",
       "      <td>2023</td>\n",
       "      <td>Monday</td>\n",
       "    </tr>\n",
       "    <tr>\n",
       "      <th>1</th>\n",
       "      <td>2023-08-21</td>\n",
       "      <td>Vendor4</td>\n",
       "      <td>75.08</td>\n",
       "      <td>92</td>\n",
       "      <td>Customer7</td>\n",
       "      <td>83.71</td>\n",
       "      <td>17</td>\n",
       "      <td>146.71</td>\n",
       "      <td>8</td>\n",
       "      <td>2023</td>\n",
       "      <td>Monday</td>\n",
       "    </tr>\n",
       "    <tr>\n",
       "      <th>2</th>\n",
       "      <td>2023-08-21</td>\n",
       "      <td>Vendor7</td>\n",
       "      <td>83.93</td>\n",
       "      <td>16</td>\n",
       "      <td>Customer2</td>\n",
       "      <td>103.76</td>\n",
       "      <td>15</td>\n",
       "      <td>297.45</td>\n",
       "      <td>8</td>\n",
       "      <td>2023</td>\n",
       "      <td>Monday</td>\n",
       "    </tr>\n",
       "    <tr>\n",
       "      <th>3</th>\n",
       "      <td>2023-08-21</td>\n",
       "      <td>Vendor7</td>\n",
       "      <td>52.01</td>\n",
       "      <td>62</td>\n",
       "      <td>Customer3</td>\n",
       "      <td>64.53</td>\n",
       "      <td>7</td>\n",
       "      <td>87.64</td>\n",
       "      <td>8</td>\n",
       "      <td>2023</td>\n",
       "      <td>Monday</td>\n",
       "    </tr>\n",
       "    <tr>\n",
       "      <th>4</th>\n",
       "      <td>2023-08-21</td>\n",
       "      <td>Vendor2</td>\n",
       "      <td>98.91</td>\n",
       "      <td>1</td>\n",
       "      <td>Customer5</td>\n",
       "      <td>140.92</td>\n",
       "      <td>1</td>\n",
       "      <td>42.01</td>\n",
       "      <td>8</td>\n",
       "      <td>2023</td>\n",
       "      <td>Monday</td>\n",
       "    </tr>\n",
       "  </tbody>\n",
       "</table>\n",
       "</div>"
      ],
      "text/plain": [
       "        Date Firm bought from  Buying price  Quantity bought   Customer  \\\n",
       "0 2023-08-21          Vendor6         72.11               60  Customer7   \n",
       "1 2023-08-21          Vendor4         75.08               92  Customer7   \n",
       "2 2023-08-21          Vendor7         83.93               16  Customer2   \n",
       "3 2023-08-21          Vendor7         52.01               62  Customer3   \n",
       "4 2023-08-21          Vendor2         98.91                1  Customer5   \n",
       "\n",
       "   Selling price  Quantity sold  Profit  Month  Year Day_of_Week  \n",
       "0          91.58             44  856.68      8  2023      Monday  \n",
       "1          83.71             17  146.71      8  2023      Monday  \n",
       "2         103.76             15  297.45      8  2023      Monday  \n",
       "3          64.53              7   87.64      8  2023      Monday  \n",
       "4         140.92              1   42.01      8  2023      Monday  "
      ]
     },
     "execution_count": 10,
     "metadata": {},
     "output_type": "execute_result"
    }
   ],
   "source": [
    "dataset.head()"
   ]
  },
  {
   "cell_type": "code",
   "execution_count": 11,
   "id": "e72a520a",
   "metadata": {},
   "outputs": [
    {
     "data": {
      "text/plain": [
       "Index(['Date', 'Firm bought from', 'Buying price', 'Quantity bought',\n",
       "       'Customer', 'Selling price', 'Quantity sold', 'Profit', 'Month', 'Year',\n",
       "       'Day_of_Week'],\n",
       "      dtype='object')"
      ]
     },
     "execution_count": 11,
     "metadata": {},
     "output_type": "execute_result"
    }
   ],
   "source": [
    "dataset.columns"
   ]
  },
  {
   "cell_type": "code",
   "execution_count": null,
   "id": "179d01b1",
   "metadata": {},
   "outputs": [],
   "source": []
  },
  {
   "cell_type": "markdown",
   "id": "d5a06532",
   "metadata": {},
   "source": [
    "6. Can you calculate a 3-day average of the daily gross profit from the sales_data_2.csv"
   ]
  },
  {
   "cell_type": "code",
   "execution_count": 12,
   "id": "71c62adb",
   "metadata": {},
   "outputs": [],
   "source": [
    "dataset['Daily_Gross_Profit'] = dataset['Profit']"
   ]
  },
  {
   "cell_type": "code",
   "execution_count": 13,
   "id": "fc6b682d",
   "metadata": {},
   "outputs": [],
   "source": [
    "# Calculate the 3-day average of daily gross profit\n",
    "dataset['3-Day_Avg_Gross_Profit'] = dataset['Daily_Gross_Profit'].rolling(window=3).mean()"
   ]
  },
  {
   "cell_type": "code",
   "execution_count": 14,
   "id": "da9ec719",
   "metadata": {},
   "outputs": [
    {
     "data": {
      "text/html": [
       "<div>\n",
       "<style scoped>\n",
       "    .dataframe tbody tr th:only-of-type {\n",
       "        vertical-align: middle;\n",
       "    }\n",
       "\n",
       "    .dataframe tbody tr th {\n",
       "        vertical-align: top;\n",
       "    }\n",
       "\n",
       "    .dataframe thead th {\n",
       "        text-align: right;\n",
       "    }\n",
       "</style>\n",
       "<table border=\"1\" class=\"dataframe\">\n",
       "  <thead>\n",
       "    <tr style=\"text-align: right;\">\n",
       "      <th></th>\n",
       "      <th>Date</th>\n",
       "      <th>Daily_Gross_Profit</th>\n",
       "      <th>3-Day_Avg_Gross_Profit</th>\n",
       "    </tr>\n",
       "  </thead>\n",
       "  <tbody>\n",
       "    <tr>\n",
       "      <th>0</th>\n",
       "      <td>2023-08-21</td>\n",
       "      <td>856.68</td>\n",
       "      <td>NaN</td>\n",
       "    </tr>\n",
       "    <tr>\n",
       "      <th>1</th>\n",
       "      <td>2023-08-21</td>\n",
       "      <td>146.71</td>\n",
       "      <td>NaN</td>\n",
       "    </tr>\n",
       "    <tr>\n",
       "      <th>2</th>\n",
       "      <td>2023-08-21</td>\n",
       "      <td>297.45</td>\n",
       "      <td>433.613333</td>\n",
       "    </tr>\n",
       "    <tr>\n",
       "      <th>3</th>\n",
       "      <td>2023-08-21</td>\n",
       "      <td>87.64</td>\n",
       "      <td>177.266667</td>\n",
       "    </tr>\n",
       "    <tr>\n",
       "      <th>4</th>\n",
       "      <td>2023-08-21</td>\n",
       "      <td>42.01</td>\n",
       "      <td>142.366667</td>\n",
       "    </tr>\n",
       "    <tr>\n",
       "      <th>...</th>\n",
       "      <td>...</td>\n",
       "      <td>...</td>\n",
       "      <td>...</td>\n",
       "    </tr>\n",
       "    <tr>\n",
       "      <th>65</th>\n",
       "      <td>2023-08-27</td>\n",
       "      <td>407.34</td>\n",
       "      <td>552.863333</td>\n",
       "    </tr>\n",
       "    <tr>\n",
       "      <th>66</th>\n",
       "      <td>2023-08-27</td>\n",
       "      <td>84.00</td>\n",
       "      <td>552.070000</td>\n",
       "    </tr>\n",
       "    <tr>\n",
       "      <th>67</th>\n",
       "      <td>2023-08-27</td>\n",
       "      <td>947.84</td>\n",
       "      <td>479.726667</td>\n",
       "    </tr>\n",
       "    <tr>\n",
       "      <th>68</th>\n",
       "      <td>2023-08-27</td>\n",
       "      <td>126.44</td>\n",
       "      <td>386.093333</td>\n",
       "    </tr>\n",
       "    <tr>\n",
       "      <th>69</th>\n",
       "      <td>2023-08-27</td>\n",
       "      <td>25.88</td>\n",
       "      <td>366.720000</td>\n",
       "    </tr>\n",
       "  </tbody>\n",
       "</table>\n",
       "<p>70 rows × 3 columns</p>\n",
       "</div>"
      ],
      "text/plain": [
       "         Date  Daily_Gross_Profit  3-Day_Avg_Gross_Profit\n",
       "0  2023-08-21              856.68                     NaN\n",
       "1  2023-08-21              146.71                     NaN\n",
       "2  2023-08-21              297.45              433.613333\n",
       "3  2023-08-21               87.64              177.266667\n",
       "4  2023-08-21               42.01              142.366667\n",
       "..        ...                 ...                     ...\n",
       "65 2023-08-27              407.34              552.863333\n",
       "66 2023-08-27               84.00              552.070000\n",
       "67 2023-08-27              947.84              479.726667\n",
       "68 2023-08-27              126.44              386.093333\n",
       "69 2023-08-27               25.88              366.720000\n",
       "\n",
       "[70 rows x 3 columns]"
      ]
     },
     "execution_count": 14,
     "metadata": {},
     "output_type": "execute_result"
    }
   ],
   "source": [
    "dataset[['Date', 'Daily_Gross_Profit', '3-Day_Avg_Gross_Profit']]"
   ]
  },
  {
   "cell_type": "code",
   "execution_count": null,
   "id": "b556f3e6",
   "metadata": {},
   "outputs": [],
   "source": []
  },
  {
   "cell_type": "markdown",
   "id": "2a86d8ee",
   "metadata": {},
   "source": [
    "8. Can you optimize the sales process to ensure gross margin is maximized?\n",
    "    1. Would you fire any vendor?\n",
    "    2. Would you let go of any customer?"
   ]
  },
  {
   "cell_type": "code",
   "execution_count": 60,
   "id": "4faa6629",
   "metadata": {},
   "outputs": [],
   "source": [
    "# Set a threshold for vendor and customer evaluation\n",
    "vendor_threshold = 50000  \n",
    "customer_threshold = 10000  \n",
    "\n",
    "# Identify vendors with gross profit below the threshold\n",
    "underperforming_vendors = dataset.groupby('Firm bought from')['Profit'].sum()[dataset.groupby('Firm bought from')['Profit'].sum() < vendor_threshold]\n",
    "\n",
    "# Identify customers with gross profit below the threshold\n",
    "underperforming_customers = dataset.groupby('Customer')['Profit'].sum()[dataset.groupby('Customer')['Profit'].sum() < customer_threshold]\n"
   ]
  },
  {
   "cell_type": "code",
   "execution_count": 62,
   "id": "e4aa1bdf",
   "metadata": {},
   "outputs": [
    {
     "data": {
      "text/plain": [
       "Customer\n",
       "Customer3    150.721429\n",
       "Customer5    187.897143\n",
       "Name: Profit, dtype: float64"
      ]
     },
     "execution_count": 62,
     "metadata": {},
     "output_type": "execute_result"
    }
   ],
   "source": [
    "customerAvgProfit = dataset.groupby('Customer')['Profit'].mean()\n",
    "underperform_customers = customerAvgProfit[customerAvgProfit < 200]\n",
    "underperform_customers"
   ]
  },
  {
   "cell_type": "code",
   "execution_count": 61,
   "id": "419b9501",
   "metadata": {},
   "outputs": [
    {
     "name": "stdout",
     "output_type": "stream",
     "text": [
      "Underperforming Vendors:\n",
      "Firm bought from\n",
      "Vendor1     1555.59\n",
      "Vendor10    3040.62\n",
      "Vendor2     1296.98\n",
      "Vendor3     6370.67\n",
      "Vendor4     6903.31\n",
      "Vendor5     1616.14\n",
      "Vendor6     1217.95\n",
      "Vendor7     4961.05\n",
      "Vendor8      253.74\n",
      "Vendor9     4266.70\n",
      "Name: Profit, dtype: float64\n",
      "\n",
      "Underperforming Customers:\n",
      "Customer\n",
      "Customer1     5310.57\n",
      "Customer10    3692.44\n",
      "Customer2     4215.67\n",
      "Customer3     1055.05\n",
      "Customer4     3337.37\n",
      "Customer5     1315.28\n",
      "Customer6     1930.76\n",
      "Customer7     2197.62\n",
      "Customer8     6498.91\n",
      "Customer9     1929.08\n",
      "Name: Profit, dtype: float64\n"
     ]
    }
   ],
   "source": [
    "# Decide whether to fire any vendor or let go of any customer based on your business criteria\n",
    "\n",
    "# Print the results\n",
    "print(\"Underperforming Vendors:\")\n",
    "print(underperforming_vendors)\n",
    "\n",
    "print(\"\\nUnderperforming Customers:\")\n",
    "print(underperforming_customers)"
   ]
  },
  {
   "cell_type": "code",
   "execution_count": null,
   "id": "fb60b121",
   "metadata": {},
   "outputs": [],
   "source": []
  },
  {
   "cell_type": "markdown",
   "id": "753f9404",
   "metadata": {},
   "source": [
    "7. Additionally, provide insights into how this 3-day trend changes over the time period covered in the dataset."
   ]
  },
  {
   "cell_type": "code",
   "execution_count": 15,
   "id": "a579fafc",
   "metadata": {},
   "outputs": [
    {
     "data": {
      "image/png": "[encoded data removed]",
      "text/plain": [
       "<Figure size 800x400 with 1 Axes>"
      ]
     },
     "metadata": {},
     "output_type": "display_data"
    }
   ],
   "source": [
    "#Visualize the 3-day trend changes\n",
    "\n",
    "plt.figure(figsize=(8, 4))\n",
    "plt.plot(dataset['Date'], dataset['3-Day_Avg_Gross_Profit'], label='3-Day Avg Gross Profit')\n",
    "plt.title('3-Day Average Gross Profit Trend')\n",
    "plt.xlabel('Date')\n",
    "plt.ylabel('3-Day Avg Gross Profit')\n",
    "plt.grid(True)\n",
    "plt.show()"
   ]
  },
  {
   "cell_type": "code",
   "execution_count": 16,
   "id": "48a45881",
   "metadata": {},
   "outputs": [],
   "source": [
    "# Describe insights\n",
    "\n",
    "# print(\"Insights:\")\n",
    "# print(\"1. Increasing Trend:\", dataset['3-Day_Avg_Gross_Profit'][dataset['3-Day_Avg_Gross_Profit'].diff() > 0])\n",
    "# print(\"2. Decreasing Trend:\", dataset['3-Day_Avg_Gross_Profit'][dataset['3-Day_Avg_Gross_Profit'].diff() < 0])\n",
    "# print(\"3. No Clear Trend:\", dataset['3-Day_Avg_Gross_Profit'][dataset['3-Day_Avg_Gross_Profit'].diff() == 0])\n",
    "# plt.show()"
   ]
  },
  {
   "cell_type": "code",
   "execution_count": null,
   "id": "7bab6b6f",
   "metadata": {},
   "outputs": [],
   "source": []
  },
  {
   "cell_type": "markdown",
   "id": "aea701de",
   "metadata": {},
   "source": [
    "9. To ensure competitive pricing, Ram wants to benchmark their buying and selling prices against the market. Could you calculate the 25th, 50th (median), and 75th percentiles for both buying and selling prices"
   ]
  },
  {
   "cell_type": "code",
   "execution_count": 17,
   "id": "423228bd",
   "metadata": {},
   "outputs": [],
   "source": [
    "#quartiles"
   ]
  },
  {
   "cell_type": "code",
   "execution_count": 18,
   "id": "d95cf498",
   "metadata": {},
   "outputs": [
    {
     "data": {
      "text/plain": [
       "0.25    29.90\n",
       "0.50    60.76\n",
       "0.75    78.32\n",
       "Name: Buying price, dtype: float64"
      ]
     },
     "execution_count": 18,
     "metadata": {},
     "output_type": "execute_result"
    }
   ],
   "source": [
    "# Calculate the percentiles for buying price\n",
    "buying_percentiles = dataset['Buying price'].quantile([0.25, 0.5, 0.75])\n",
    "buying_percentiles "
   ]
  },
  {
   "cell_type": "code",
   "execution_count": 19,
   "id": "8d8803ac",
   "metadata": {},
   "outputs": [
    {
     "data": {
      "text/plain": [
       "0.25     38.9750\n",
       "0.50     78.9900\n",
       "0.75    103.3975\n",
       "Name: Selling price, dtype: float64"
      ]
     },
     "execution_count": 19,
     "metadata": {},
     "output_type": "execute_result"
    }
   ],
   "source": [
    "# Calculate the percentiles for selling price\n",
    "selling_percentiles = dataset['Selling price'].quantile([0.25, 0.5, 0.75])\n",
    "selling_percentiles"
   ]
  },
  {
   "cell_type": "code",
   "execution_count": null,
   "id": "55e1e509",
   "metadata": {},
   "outputs": [],
   "source": []
  },
  {
   "cell_type": "markdown",
   "id": "5a3a183c",
   "metadata": {},
   "source": [
    "10. Additionally, analyze how often the Sapota’s prices fall below the 25th percentile or above the 75th percentile, potentially indicating they are buying at a high price or selling at a low price relative to their own transaction history"
   ]
  },
  {
   "cell_type": "code",
   "execution_count": 20,
   "id": "f5726717",
   "metadata": {},
   "outputs": [],
   "source": [
    "# Calculate the 25th and 75th percentiles for buying and selling prices\n",
    "buying_percentiles = dataset['Buying price'].quantile([0.25, 0.75])\n",
    "selling_percentiles = dataset['Selling price'].quantile([0.25, 0.75])"
   ]
  },
  {
   "cell_type": "code",
   "execution_count": 21,
   "id": "f5141d57",
   "metadata": {},
   "outputs": [
    {
     "data": {
      "text/plain": [
       "18"
      ]
     },
     "execution_count": 21,
     "metadata": {},
     "output_type": "execute_result"
    }
   ],
   "source": [
    "# Count how many times prices fall below the 25th percentile or above the 75th percentile\n",
    "buying_below_25th = (dataset['Buying price'] < buying_percentiles[0.25]).sum()\n",
    "buying_below_25th\n"
   ]
  },
  {
   "cell_type": "code",
   "execution_count": 22,
   "id": "77612277",
   "metadata": {},
   "outputs": [
    {
     "data": {
      "text/plain": [
       "18"
      ]
     },
     "execution_count": 22,
     "metadata": {},
     "output_type": "execute_result"
    }
   ],
   "source": [
    "buying_above_75th = (dataset['Buying price'] > buying_percentiles[0.75]).sum()\n",
    "buying_above_75th"
   ]
  },
  {
   "cell_type": "code",
   "execution_count": 23,
   "id": "7823c809",
   "metadata": {},
   "outputs": [
    {
     "data": {
      "text/plain": [
       "18"
      ]
     },
     "execution_count": 23,
     "metadata": {},
     "output_type": "execute_result"
    }
   ],
   "source": [
    "selling_below_25th = (dataset['Selling price'] < selling_percentiles[0.25]).sum()\n",
    "selling_below_25th"
   ]
  },
  {
   "cell_type": "code",
   "execution_count": 25,
   "id": "86490c84",
   "metadata": {},
   "outputs": [
    {
     "data": {
      "text/plain": [
       "18"
      ]
     },
     "execution_count": 25,
     "metadata": {},
     "output_type": "execute_result"
    }
   ],
   "source": [
    "selling_above_75th = (dataset['Selling price'] > selling_percentiles[0.75]).sum()\n",
    "selling_above_75th"
   ]
  },
  {
   "cell_type": "code",
   "execution_count": null,
   "id": "71f7b214",
   "metadata": {},
   "outputs": [],
   "source": []
  },
  {
   "cell_type": "markdown",
   "id": "09b2de5e",
   "metadata": {},
   "source": [
    "11. Bharath says that Vendor 4 has to be honored.  What impact does it have on your optimal gross margin"
   ]
  },
  {
   "cell_type": "code",
   "execution_count": 28,
   "id": "6effff1f",
   "metadata": {},
   "outputs": [],
   "source": [
    "# Calculate the optimal gross margin without considering Vendor 4\n",
    "optimal_gross_margin_without_vendor4 = (dataset['Selling price'] * dataset['Quantity sold'] - dataset['Buying price'] * dataset['Quantity bought'])"
   ]
  },
  {
   "cell_type": "code",
   "execution_count": 29,
   "id": "402ff1fd",
   "metadata": {},
   "outputs": [
    {
     "data": {
      "text/plain": [
       "0     -297.08\n",
       "1    -5484.29\n",
       "2      213.52\n",
       "3    -2772.91\n",
       "4       42.01\n",
       "       ...   \n",
       "65    -240.86\n",
       "66    -715.11\n",
       "67   -2153.86\n",
       "68   -1190.40\n",
       "69   -1324.84\n",
       "Length: 70, dtype: float64"
      ]
     },
     "execution_count": 29,
     "metadata": {},
     "output_type": "execute_result"
    }
   ],
   "source": [
    "optimal_gross_margin_without_vendor4"
   ]
  },
  {
   "cell_type": "code",
   "execution_count": 40,
   "id": "da05a6dc",
   "metadata": {},
   "outputs": [
    {
     "data": {
      "text/plain": [
       "0     4029.52\n",
       "1     1423.07\n",
       "2     1556.40\n",
       "3      451.71\n",
       "4      140.92\n",
       "       ...   \n",
       "65    1574.10\n",
       "66     527.95\n",
       "67    2973.44\n",
       "68     502.68\n",
       "69      82.16\n",
       "Length: 70, dtype: float64"
      ]
     },
     "execution_count": 40,
     "metadata": {},
     "output_type": "execute_result"
    }
   ],
   "source": [
    "selling = dataset['Selling price'] * dataset['Quantity sold']\n",
    "selling"
   ]
  },
  {
   "cell_type": "code",
   "execution_count": 42,
   "id": "6e083cd5",
   "metadata": {},
   "outputs": [
    {
     "data": {
      "text/plain": [
       "0     4326.60\n",
       "1     6907.36\n",
       "2     1342.88\n",
       "3     3224.62\n",
       "4       98.91\n",
       "       ...   \n",
       "65    1814.96\n",
       "66    1243.06\n",
       "67    5127.30\n",
       "68    1693.08\n",
       "69    1407.00\n",
       "Length: 70, dtype: float64"
      ]
     },
     "execution_count": 42,
     "metadata": {},
     "output_type": "execute_result"
    }
   ],
   "source": [
    "buying = dataset['Buying price'] * dataset['Quantity bought']\n",
    "buying"
   ]
  },
  {
   "cell_type": "code",
   "execution_count": 43,
   "id": "fef0ffc1",
   "metadata": {},
   "outputs": [],
   "source": [
    "optimal_gross_margin_without_vendor4 = sum(selling - buying)\n"
   ]
  },
  {
   "cell_type": "code",
   "execution_count": 44,
   "id": "d6ed846d",
   "metadata": {},
   "outputs": [
    {
     "data": {
      "text/plain": [
       "-66033.43000000001"
      ]
     },
     "execution_count": 44,
     "metadata": {},
     "output_type": "execute_result"
    }
   ],
   "source": [
    "optimal_gross_margin_without_vendor4"
   ]
  },
  {
   "cell_type": "code",
   "execution_count": 33,
   "id": "5c07d77f",
   "metadata": {},
   "outputs": [
    {
     "data": {
      "text/html": [
       "<div>\n",
       "<style scoped>\n",
       "    .dataframe tbody tr th:only-of-type {\n",
       "        vertical-align: middle;\n",
       "    }\n",
       "\n",
       "    .dataframe tbody tr th {\n",
       "        vertical-align: top;\n",
       "    }\n",
       "\n",
       "    .dataframe thead th {\n",
       "        text-align: right;\n",
       "    }\n",
       "</style>\n",
       "<table border=\"1\" class=\"dataframe\">\n",
       "  <thead>\n",
       "    <tr style=\"text-align: right;\">\n",
       "      <th></th>\n",
       "      <th>Date</th>\n",
       "      <th>Firm bought from</th>\n",
       "      <th>Buying price</th>\n",
       "      <th>Quantity bought</th>\n",
       "      <th>Customer</th>\n",
       "      <th>Selling price</th>\n",
       "      <th>Quantity sold</th>\n",
       "      <th>Profit</th>\n",
       "      <th>Month</th>\n",
       "      <th>Year</th>\n",
       "      <th>Day_of_Week</th>\n",
       "      <th>Daily_Gross_Profit</th>\n",
       "      <th>3-Day_Avg_Gross_Profit</th>\n",
       "    </tr>\n",
       "  </thead>\n",
       "  <tbody>\n",
       "    <tr>\n",
       "      <th>1</th>\n",
       "      <td>2023-08-21</td>\n",
       "      <td>Vendor4</td>\n",
       "      <td>75.08</td>\n",
       "      <td>92</td>\n",
       "      <td>Customer7</td>\n",
       "      <td>83.71</td>\n",
       "      <td>17</td>\n",
       "      <td>146.71</td>\n",
       "      <td>8</td>\n",
       "      <td>2023</td>\n",
       "      <td>Monday</td>\n",
       "      <td>146.71</td>\n",
       "      <td>NaN</td>\n",
       "    </tr>\n",
       "    <tr>\n",
       "      <th>29</th>\n",
       "      <td>2023-08-23</td>\n",
       "      <td>Vendor4</td>\n",
       "      <td>50.49</td>\n",
       "      <td>43</td>\n",
       "      <td>Customer10</td>\n",
       "      <td>59.99</td>\n",
       "      <td>41</td>\n",
       "      <td>389.50</td>\n",
       "      <td>8</td>\n",
       "      <td>2023</td>\n",
       "      <td>Wednesday</td>\n",
       "      <td>389.50</td>\n",
       "      <td>755.750000</td>\n",
       "    </tr>\n",
       "    <tr>\n",
       "      <th>34</th>\n",
       "      <td>2023-08-24</td>\n",
       "      <td>Vendor4</td>\n",
       "      <td>99.23</td>\n",
       "      <td>95</td>\n",
       "      <td>Customer1</td>\n",
       "      <td>131.98</td>\n",
       "      <td>92</td>\n",
       "      <td>3013.00</td>\n",
       "      <td>8</td>\n",
       "      <td>2023</td>\n",
       "      <td>Thursday</td>\n",
       "      <td>3013.00</td>\n",
       "      <td>1242.630000</td>\n",
       "    </tr>\n",
       "    <tr>\n",
       "      <th>49</th>\n",
       "      <td>2023-08-25</td>\n",
       "      <td>Vendor4</td>\n",
       "      <td>17.85</td>\n",
       "      <td>80</td>\n",
       "      <td>Customer5</td>\n",
       "      <td>20.47</td>\n",
       "      <td>20</td>\n",
       "      <td>52.40</td>\n",
       "      <td>8</td>\n",
       "      <td>2023</td>\n",
       "      <td>Friday</td>\n",
       "      <td>52.40</td>\n",
       "      <td>440.043333</td>\n",
       "    </tr>\n",
       "    <tr>\n",
       "      <th>54</th>\n",
       "      <td>2023-08-26</td>\n",
       "      <td>Vendor4</td>\n",
       "      <td>82.77</td>\n",
       "      <td>66</td>\n",
       "      <td>Customer8</td>\n",
       "      <td>124.13</td>\n",
       "      <td>65</td>\n",
       "      <td>2688.40</td>\n",
       "      <td>8</td>\n",
       "      <td>2023</td>\n",
       "      <td>Saturday</td>\n",
       "      <td>2688.40</td>\n",
       "      <td>959.096667</td>\n",
       "    </tr>\n",
       "    <tr>\n",
       "      <th>59</th>\n",
       "      <td>2023-08-26</td>\n",
       "      <td>Vendor4</td>\n",
       "      <td>28.90</td>\n",
       "      <td>88</td>\n",
       "      <td>Customer8</td>\n",
       "      <td>36.83</td>\n",
       "      <td>11</td>\n",
       "      <td>87.23</td>\n",
       "      <td>8</td>\n",
       "      <td>2023</td>\n",
       "      <td>Saturday</td>\n",
       "      <td>87.23</td>\n",
       "      <td>342.363333</td>\n",
       "    </tr>\n",
       "    <tr>\n",
       "      <th>62</th>\n",
       "      <td>2023-08-27</td>\n",
       "      <td>Vendor4</td>\n",
       "      <td>68.27</td>\n",
       "      <td>22</td>\n",
       "      <td>Customer4</td>\n",
       "      <td>100.62</td>\n",
       "      <td>1</td>\n",
       "      <td>32.35</td>\n",
       "      <td>8</td>\n",
       "      <td>2023</td>\n",
       "      <td>Sunday</td>\n",
       "      <td>32.35</td>\n",
       "      <td>81.236667</td>\n",
       "    </tr>\n",
       "    <tr>\n",
       "      <th>63</th>\n",
       "      <td>2023-08-27</td>\n",
       "      <td>Vendor4</td>\n",
       "      <td>83.76</td>\n",
       "      <td>34</td>\n",
       "      <td>Customer3</td>\n",
       "      <td>96.10</td>\n",
       "      <td>7</td>\n",
       "      <td>86.38</td>\n",
       "      <td>8</td>\n",
       "      <td>2023</td>\n",
       "      <td>Sunday</td>\n",
       "      <td>86.38</td>\n",
       "      <td>78.670000</td>\n",
       "    </tr>\n",
       "    <tr>\n",
       "      <th>65</th>\n",
       "      <td>2023-08-27</td>\n",
       "      <td>Vendor4</td>\n",
       "      <td>64.82</td>\n",
       "      <td>28</td>\n",
       "      <td>Customer6</td>\n",
       "      <td>87.45</td>\n",
       "      <td>18</td>\n",
       "      <td>407.34</td>\n",
       "      <td>8</td>\n",
       "      <td>2023</td>\n",
       "      <td>Sunday</td>\n",
       "      <td>407.34</td>\n",
       "      <td>552.863333</td>\n",
       "    </tr>\n",
       "  </tbody>\n",
       "</table>\n",
       "</div>"
      ],
      "text/plain": [
       "         Date Firm bought from  Buying price  Quantity bought    Customer  \\\n",
       "1  2023-08-21          Vendor4         75.08               92   Customer7   \n",
       "29 2023-08-23          Vendor4         50.49               43  Customer10   \n",
       "34 2023-08-24          Vendor4         99.23               95   Customer1   \n",
       "49 2023-08-25          Vendor4         17.85               80   Customer5   \n",
       "54 2023-08-26          Vendor4         82.77               66   Customer8   \n",
       "59 2023-08-26          Vendor4         28.90               88   Customer8   \n",
       "62 2023-08-27          Vendor4         68.27               22   Customer4   \n",
       "63 2023-08-27          Vendor4         83.76               34   Customer3   \n",
       "65 2023-08-27          Vendor4         64.82               28   Customer6   \n",
       "\n",
       "    Selling price  Quantity sold   Profit  Month  Year Day_of_Week  \\\n",
       "1           83.71             17   146.71      8  2023      Monday   \n",
       "29          59.99             41   389.50      8  2023   Wednesday   \n",
       "34         131.98             92  3013.00      8  2023    Thursday   \n",
       "49          20.47             20    52.40      8  2023      Friday   \n",
       "54         124.13             65  2688.40      8  2023    Saturday   \n",
       "59          36.83             11    87.23      8  2023    Saturday   \n",
       "62         100.62              1    32.35      8  2023      Sunday   \n",
       "63          96.10              7    86.38      8  2023      Sunday   \n",
       "65          87.45             18   407.34      8  2023      Sunday   \n",
       "\n",
       "    Daily_Gross_Profit  3-Day_Avg_Gross_Profit  \n",
       "1               146.71                     NaN  \n",
       "29              389.50              755.750000  \n",
       "34             3013.00             1242.630000  \n",
       "49               52.40              440.043333  \n",
       "54             2688.40              959.096667  \n",
       "59               87.23              342.363333  \n",
       "62               32.35               81.236667  \n",
       "63               86.38               78.670000  \n",
       "65              407.34              552.863333  "
      ]
     },
     "execution_count": 33,
     "metadata": {},
     "output_type": "execute_result"
    }
   ],
   "source": [
    "#Getting on the vendor4 data\n",
    "\n",
    "vendor4_data = dataset[dataset['Firm bought from']==\"Vendor4\"]\n",
    "vendor4_data"
   ]
  },
  {
   "cell_type": "code",
   "execution_count": 36,
   "id": "c3d4bdb3",
   "metadata": {},
   "outputs": [],
   "source": [
    "gross_margin_with_vendor4 = sum((vendor4_data['Selling price'] * vendor4_data['Quantity sold']) -\n",
    "    (vendor4_data['Buying price'] * vendor4_data['Quantity bought']))\n"
   ]
  },
  {
   "cell_type": "code",
   "execution_count": 37,
   "id": "c949805c",
   "metadata": {},
   "outputs": [
    {
     "data": {
      "text/plain": [
       "-6848.82"
      ]
     },
     "execution_count": 37,
     "metadata": {},
     "output_type": "execute_result"
    }
   ],
   "source": [
    "gross_margin_with_vendor4"
   ]
  },
  {
   "cell_type": "code",
   "execution_count": null,
   "id": "c48fe661",
   "metadata": {},
   "outputs": [],
   "source": []
  },
  {
   "cell_type": "markdown",
   "id": "0a2d8dd5",
   "metadata": {},
   "source": [
    "12. 2. Which vendor should we have a strategic tie up so that we source only from them (the goal here is to have the highest gross margin)\n",
    "    - What’s the theoretical max margin the firm could have from that branch?"
   ]
  },
  {
   "cell_type": "code",
   "execution_count": 65,
   "id": "23ab7871",
   "metadata": {},
   "outputs": [
    {
     "name": "stdout",
     "output_type": "stream",
     "text": [
      "Best Vendor for Tie-Up: Vendor1\n",
      "Average Gross Margin: 0.22280869839515818\n"
     ]
    }
   ],
   "source": [
    "dataset['Gross Margin'] = (dataset['Selling price'].sum() - dataset['Buying price'].sum()) / dataset['Selling price'].sum()\n",
    "vendor = dataset.groupby('Firm bought from')['Gross Margin'].mean()\n",
    "best_vendor = vendor.idxmax()\n",
    "print(\"Best Vendor for Tie-Up:\", best_vendor)\n",
    "print(\"Average Gross Margin:\", vendor[best_vendor])"
   ]
  },
  {
   "cell_type": "code",
   "execution_count": null,
   "id": "e8397faa",
   "metadata": {},
   "outputs": [],
   "source": []
  },
  {
   "cell_type": "markdown",
   "id": "6e39b3ef",
   "metadata": {},
   "source": [
    "13. Given this is the ground truth, what is the price elasticity of Sapota for that branch? (If you increase by Rs.1, how much sales will go up/down and if you decrease price by Rs. 1, how much sales will go up/down) "
   ]
  },
  {
   "cell_type": "code",
   "execution_count": 64,
   "id": "28f59250",
   "metadata": {},
   "outputs": [
    {
     "name": "stdout",
     "output_type": "stream",
     "text": [
      "Sales Increase by Re.1 = Rs. 1697.0\n",
      "Sales Decrease by Re.1 = Rs. -1697.0\n"
     ]
    }
   ],
   "source": [
    "total_revenue = (dataset['Selling price'] * dataset['Quantity sold']).sum()\n",
    "dataset['Selling price'] += 1\n",
    "revenue_increase = (dataset['Selling price'] * dataset['Quantity sold']).sum()\n",
    "sales_increase = revenue_increase - total_revenue\n",
    "dataset['Selling price'] -= 2\n",
    "revenue_decrease = (dataset['Selling price'] * dataset['Quantity sold']).sum()\n",
    "sales_decrease = revenue_decrease - total_revenue\n",
    "print(\"Sales Increase by Rs.1 = Rs.\", sales_increase)\n",
    "print(\"Sales Decrease by Rs.1 = Rs.\", sales_decrease)"
   ]
  },
  {
   "cell_type": "code",
   "execution_count": null,
   "id": "d43b3458",
   "metadata": {},
   "outputs": [],
   "source": []
  }
 ],
 "metadata": {
  "kernelspec": {
   "display_name": "Python 3 (ipykernel)",
   "language": "python",
   "name": "python3"
  },
  "language_info": {
   "codemirror_mode": {
    "name": "ipython",
    "version": 3
   },
   "file_extension": ".py",
   "mimetype": "text/x-python",
   "name": "python",
   "nbconvert_exporter": "python",
   "pygments_lexer": "ipython3",
   "version": "3.11.4"
  }
 },
 "nbformat": 4,
 "nbformat_minor": 5
}
